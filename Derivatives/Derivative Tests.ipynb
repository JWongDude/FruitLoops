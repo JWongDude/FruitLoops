{
 "cells": [
  {
   "cell_type": "code",
   "execution_count": 8,
   "metadata": {
    "collapsed": false
   },
   "outputs": [
   ],
   "source": [
    "import numpy as np\n",
    "import matplotlib.pyplot as plt\n",
    "import torch"
   ]
  },
  {
   "cell_type": "markdown",
   "metadata": {
    "collapsed": false
   },
   "source": [
    "$\\textbf{Definitions:}$ $\\\\$\n",
    "\n",
    "$\\mbox{---Gradient---}$ $\\\\$ $\\\\$\n",
    "Vector formed by partial derivatives of scalar function, f(x) in which $x = \\begin{bmatrix} x_1 \\\\ x_2 \\\\ \\vdots \\\\x_n \\end{bmatrix}$ $\\\\$\n",
    "Gradient maps $\\mathbb{R}^n \\rightarrow \\mathbb{R}$ $\\\\$\n",
    "\n",
    "$$\\nabla f(\\mathbf{x})=\\frac{\\partial f(\\mathbf{x})}{\\partial x_1}\\hat{x}_1+\\frac{\\partial f(\\mathbf{x})}{\\partial x_2}\\hat{x}_2+\\ldots+\\frac{\\partial f(\\mathbf{x})}{\\partial x_n}\\hat{x}_n$$\n",
    "\n",
    "$$\\nabla f(x) = \\left[\\frac{\\partial f}{\\partial x_1}\\frac{\\partial f}{\\partial x_2}\\dots\\frac{\\partial f}{\\partial x_n}\\right]$$\n",
    "\n",
    "Note: Input is a column vector, outputs a row vector. $\\\\$\n",
    "Gradient is the rate of change wrt each dimension/component and corresponds to steepest slope due to linear independence used for gradient descent. $\\\\$\n",
    "\n",
    "$\\mbox{---Jacobian---}$ $\\\\$\n",
    "Matrix formed by partial derivatives of vector function of scalar functions, maps $\\mathbb{R}^n \\rightarrow \\mathbb{R}^m$ $\\\\$\n",
    "\n",
    "$$J_\\mathbf{f} = \\frac{\\partial (f_1,\\ldots,f_m)}{\\partial(x_1,\\ldots,x_n)} = \\left[\n",
    "\\begin{matrix}\n",
    "\\frac{\\partial f_1}{\\partial x_1} &amp; \\cdots &amp; \\frac{\\partial f_1}{\\partial x_n} \\\\\n",
    "\\vdots &amp; \\ddots &amp; \\vdots \\\\\n",
    "\\frac{\\partial f_m}{\\partial x_1} &amp; \\cdots &amp; \\frac{\\partial f_m}{\\partial x_n}\n",
    "\\end{matrix}\n",
    "\\right]$$\n",
    "The Jacobian is the gradient applied to multiple rows, commonly used as a change of basis/unit conversion:\n",
    "\n",
    "$$\\iiint_R f(x,y,z) \\,dx\\,dy\\,dz = \\iiint_S f(x(u,v,w),y(u,v,w),z(u,v,w))\\left|\\frac{\\partial (x,y,z)}{\\partial(u,v,w)}\\right|\\,du\\,dv\\,dw$$\n",
    "Note: Gradient = Jacobian if $m = 1$.\n",
    "\n",
    "$\\mbox{---Hessian---}$ $\\\\$\n",
    "Gradient applied to Gradient, Double Gradient: $\\\\$\n",
    "$$\\begin{align}D[\\nabla f(\\mathbf x)] &amp;= D[D[f(\\mathbf x)]]\\\\\n",
    "&amp;=\\left(D\\left[\\frac{\\partial f}{\\partial x_1}\\right]^T, \\ldots, D\\left[\\frac{\\partial f}{\\partial x_n}\\right]^T\\right)\\end{align}$$\n",
    "Which expands to give us the Hessian matrix:\n",
    "$$D^2[f(\\mathbf x)]=\\left(\\begin{matrix}\\frac{\\partial^2 f}{\\partial x_1^2} &amp; \\ldots &amp; \\frac{\\partial^2 f}{\\partial x_1\\partial x_n}\\\\\n",
    "\\vdots &amp; \\ddots &amp; \\vdots \\\\\n",
    "\\frac{\\partial^2 f}{\\partial x_n\\partial x_1}&amp; \\ldots &amp; \\frac{\\partial^2 f}{\\partial x_n^2}\\end{matrix}\\right)$$\n",
    "\n",
    "Note: Inputs are column vectors, outputs are row vectors. (Transposed first because the first gradient outputs a row vector) $\\\\$\n",
    "The Hessian represents the rate of change of gradient, analogous to curvature. Used to computationally determine the position of a min/max point in optimization, which is darn impossible to visualize past 2 dimensions.\n",
    "\n",
    "$\\textbf{Analytic Gradient:}$ $\\\\$\n",
    "$\\mbox{---Linear Form---}$ $\\\\$\n",
    "$f(x) = a^T x$ $\\\\$\n",
    "Component-wise derivative yields corresponding dot-product coefficent of each component k. $\\\\$\n",
    "Assemble each partial derivatives into vector: $\\\\$\n",
    "$\\nabla f(x) = \\begin{bmatrix} a_1 \\\\ a_2 \\\\ \\vdots \\\\ a_n \\end{bmatrix} = a$\n",
    "\n",
    "-General Linear Form: $\\\\$\n",
    "$f(x) = a^Tx + b$ $\\\\$\n",
    "$\\nabla f(x) = a$\n",
    "\n",
    "\n",
    "$\\mbox{---Quadratic Form---}$ $\\\\$\n",
    "$f(x) = x^T A x$ $\\\\$\n",
    "Tracing through 2x2 example: $\\\\$\n",
    "$\\nabla f(x) = (A + A^T)x$ $\\\\$\n",
    "For pd matrices, $A = A^T$ so: $\\\\$\n",
    "$\\nabla f(x) = 2Ax$\n",
    "\n",
    "-General Quadratic Form, which builds from gradient of general linear form: $\\\\$\n",
    "$f(x) = \\frac{1}{2}x^T A x + b^Tx + c$ $\\\\$\n",
    "$\\nabla f(x) = \\frac{1}{2}(A^T + A)x + b$ $\\\\$\n",
    "For symmteric matrix A: $\\\\$\n",
    "$\\nabla f(x) = Ax + b$\n",
    "\n",
    "-Mixed Quadratic Form: $\\\\$\n",
    "$f(x,y) = x^T A y$ $\\\\$\n",
    "Wrt x: $\\nabla_x f(x,y) = Ay$ $\\\\$\n",
    "Wrt y: $\\nabla_y f(x,y) = A^Tx$ $\\\\$\n",
    "Taking the right partial derivative, transpose. $\\\\$\n",
    "Matrices are pd, so wrt y: $\\nabla_y f(x,y) = Ax$\n",
    "\n",
    "$\\textbf{Analytic Hessian:}$ $\\\\$\n",
    "Tracing through 2x2 example again: $\\\\$\n",
    "$\\mbox{---Linear Form---}$ $\\\\$\n",
    "$f(x) = a^T x$ $\\\\$\n",
    "$\\nabla f(x)$ does not depend on x, so $\\nabla^2 f(x) = 0$.\n",
    "\n",
    "$\\mbox{---Quadratic Form---}$ $\\\\$\n",
    "$f(x) = x^T A x$ $\\\\$\n",
    "$\\nabla^2 f(x) = A + A^T$ $\\\\$\n",
    "For symmteric matrix A: $\\\\$\n",
    "$\\nabla^2 f(x) = 2A$\n",
    "\n",
    "Mixed Quadratic Form: $\\\\$\n",
    "$f(x,y) = x^T A y$ $\\\\$\n",
    "Wrt xx, yy: $H_{xx} = H_{yy} = 0$ $\\\\$\n",
    "Wrt xy, yx: $H_{xy} = H_{yx} = 2A$\n"
   ]
  },
  {
   "cell_type": "markdown",
   "metadata": {
    "collapsed": false
   },
   "source": [
    "Simultaneous gradient descent (continuous time):\n",
    "    $\\dot x = -D_1f_1(x,y),\\ \\dot y = -D_2f_2(x,y)$, simgrad Jacobian\n",
    "    $J(x,y) = \\begin{bmatrix} D_1^2f_1(x,y) & D_{12}f_1(x,y) \\\\ D_{21}f_2(x,y) & D_2^2f_2(x,y) \\end{bmatrix}$\n",
    "    \n",
    "(discrete time): \n",
    "$x^+ = x - \\gamma_x D_1f_1(x,y),\\ \n",
    "y^+ = y - \\gamma_y D_2f_2(x,y)$"
   ]
  },
  {
   "cell_type": "code",
   "execution_count": 0,
   "metadata": {
    "collapsed": false
   },
   "outputs": [
   ],
   "source": [
   ]
  },
  {
   "cell_type": "code",
   "execution_count": 10,
   "metadata": {
    "collapsed": false
   },
   "outputs": [
   ],
   "source": [
    "m = 2\n",
    "n = 2\n",
    "\n",
    "#Random pd matrices, Cholesky form:\n",
    "np.random.seed(0)\n",
    "A1 = np.random.randn(n,n)\n",
    "A1 = A1.T @ A1\n",
    "\n",
    "A2 = np.random.randn(n,n)\n",
    "A2 = A2.T @ A2\n",
    "\n",
    "#Random matricies, not pd:\n",
    "B1 = np.random.randn(n,m)\n",
    "B2 = np.random.randn(n,m)\n",
    "C1 = np.random.randn(m,m)\n",
    "C2 = np.random.randn(m,m)\n",
    "\n",
    "#Define e,h vectors:\n",
    "e1 = np.random.randn(n)\n",
    "e2 = np.random.randn(m)\n",
    "h1 = np.random.randn(m)\n",
    "h2 = np.random.randn(n)\n",
    "\n",
    "#Convert Matrices into tensors\n",
    "A1 = torch.tensor(A1, dtype = torch.float)\n",
    "A2 = torch.tensor(A2, dtype = torch.float)\n",
    "B1 = torch.tensor(B1, dtype = torch.float)\n",
    "B2 = torch.tensor(B2, dtype = torch.float)\n",
    "C1 = torch.tensor(C1, dtype = torch.float)\n",
    "C2 = torch.tensor(C2, dtype = torch.float)\n",
    "e1 = torch.tensor(e1, dtype = torch.float)\n",
    "e2 = torch.tensor(e2, dtype = torch.float)\n",
    "h1 = torch.tensor(h1, dtype = torch.float)\n",
    "h2 = torch.tensor(h2, dtype = torch.float)\n",
    "\n",
    "x1 = torch.ones((n, 1), requires_grad=True)\n",
    "x2 = torch.ones((m, 1), requires_grad=True)\n",
    "\n",
    "#Generic Quadratic Cost:\n",
    "#B_ij, C_ij still rather vague\n",
    "def f1(x1,x2):\n",
    "    return (0.5 * x1.t() @ A1 @ x1) + (x1.t() @ B1 @ x2) + (0.5 * x2.t() @ C1 @ x2) + (e1.t() @ x1) + (h1.t() @ x2)\n",
    "\n",
    "def f2(x1,x2):\n",
    "    return (0.5 * x2.t() @ A2 @ x2) + (x2.t() @ B2 @ x1) + (0.5 * x1.t() @ C2 @ x1) + (e2.t() @ x2) + (h2.t() @ x1)"
   ]
  },
  {
   "cell_type": "code",
   "execution_count": 11,
   "metadata": {
    "collapsed": false
   },
   "outputs": [
   ],
   "source": [
    "#Analytical Gradient:\n",
    "#D wrt x1:\n",
    "def D1f1(x1,x2):\n",
    "    return (A @ x1) + 0.5 * (B1 @ x2) + e1\n",
    "\n",
    "def D1f2(x1,x2):\n",
    "    return 0.5 * (B2.t() @ x2) + (C2 @ x1) + h2\n",
    "\n",
    "#D wrt x2:\n",
    "def D2f1(x1,x2):\n",
    "    return 0.5 * (B1.t() @ x1) + (C1 @ x2) + h1\n",
    "\n",
    "def D2f2(x1,x2):\n",
    "    return (A2 @ x2) + 0.5 * (B2 @ x1) + e2\n",
    "\n",
    "#Analytical Hessian:\n",
    "#H wrt x1:\n",
    "def H11f1(x1, x2):\n",
    "    return A1\n",
    "\n",
    "def H11f2(x1, x2):\n",
    "    return C2\n",
    "\n",
    "#H wrt x2:\n",
    "def H22f1(x1, x2):\n",
    "    return C1\n",
    "\n",
    "def H22f2(x1, x2):\n",
    "    return A2\n"
   ]
  },
  {
   "cell_type": "code",
   "execution_count": 16,
   "metadata": {
    "collapsed": false
   },
   "outputs": [
    {
     "name": "stdout",
     "output_type": "stream",
     "text": [
      "None\n"
     ]
    },
    {
     "name": "stderr",
     "output_type": "stream",
     "text": [
      "/projects/ac66b0d1-d01e-42cc-9d9b-3799ed5ac4d1/.local/lib/python3.6/site-packages/torch/tensor.py:746: UserWarning: The .grad attribute of a Tensor that is not a leaf Tensor is being accessed. Its .grad attribute won't be populated during autograd.backward(). If you indeed want the gradient for a non-leaf Tensor, use .retain_grad() on the non-leaf Tensor. If you access the non-leaf Tensor by mistake, make sure you access the leaf Tensor instead. See github.com/pytorch/pytorch/pull/30531 for more informations.\n",
      "  warnings.warn(\"The .grad attribute of a Tensor that is not a leaf Tensor is being accessed. Its .grad \"\n"
     ]
    }
   ],
   "source": [
    "#Computational Gradient:\n",
    "#tensors = [tensor.zero_grad() for tensor in tensors]\n",
    "\n",
    "'''\n",
    "-Possible solutions:\n",
    "-Make functions just expressions\n",
    "-use backward\n",
    "-Seeing an example would be nice\n",
    "'''\n",
    "print(f1(x1,x2).grad)\n",
    "\n",
    "\n",
    "#Computational Hessian:\n",
    "#print(torch.autograd(x1).autograd(x1))\n",
    "#print(torch.autograd(x2).autograd(x2))"
   ]
  },
  {
   "cell_type": "code",
   "execution_count": 0,
   "metadata": {
    "collapsed": false
   },
   "outputs": [
   ],
   "source": [
   ]
  }
 ],
 "metadata": {
  "kernelspec": {
   "display_name": "Python 3",
   "language": "python",
   "name": "python3"
  },
  "language_info": {
   "codemirror_mode": {
    "name": "ipython",
    "version": 3
   },
   "file_extension": ".py",
   "mimetype": "text/x-python",
   "name": "python",
   "nbconvert_exporter": "python",
   "pygments_lexer": "ipython3",
   "version": "3.6.9"
  }
 },
 "nbformat": 4,
 "nbformat_minor": 4
}